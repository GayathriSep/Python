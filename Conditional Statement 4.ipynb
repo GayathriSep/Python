{
 "cells": [
  {
   "cell_type": "markdown",
   "id": "974f7fef",
   "metadata": {},
   "source": [
    "# A company decided to give a bonus of 5% to employee if his/her year of experience is more than 5 years. Ask user for their salary and year of experience and print the net bonus amount"
   ]
  },
  {
   "cell_type": "code",
   "execution_count": 3,
   "id": "edb39605",
   "metadata": {},
   "outputs": [
    {
     "name": "stdout",
     "output_type": "stream",
     "text": [
      "Enter salary:40000\n",
      "Enter experience:6\n",
      "Bonus amount is 2000.0\n",
      "Net amount is 42000.0\n"
     ]
    }
   ],
   "source": [
    "salary=float(input(\"Enter salary:\"))\n",
    "experience=int(input(\"Enter experience:\"))\n",
    "if(experience>5):\n",
    "    Bonus_amount=float((5/100)*salary)\n",
    "    Net_amount=salary+Bonus_amount\n",
    "    print(\"Bonus amount is\", Bonus_amount)\n",
    "    print(\"Net amount is\", Net_amount)"
   ]
  },
  {
   "cell_type": "markdown",
   "id": "a122a5e0",
   "metadata": {},
   "source": [
    "# Write a program to take input of length and breadth of a rectangle from user and check if it is square or not"
   ]
  },
  {
   "cell_type": "code",
   "execution_count": 4,
   "id": "2aa6d847",
   "metadata": {},
   "outputs": [
    {
     "name": "stdout",
     "output_type": "stream",
     "text": [
      "Enter length:3\n",
      "Enter breath:4\n",
      "It is not a square\n"
     ]
    }
   ],
   "source": [
    "l=int(input('Enter length:'))\n",
    "b=int(input('Enter breath:'))\n",
    "if(l==b):\n",
    "    print(\"It is a square\")\n",
    "else:\n",
    "    print(\"It is not a square\")"
   ]
  },
  {
   "cell_type": "markdown",
   "id": "c0df5bc5",
   "metadata": {},
   "source": [
    "# Take input of age of 3 people by user and determine oldest and youngest among them"
   ]
  },
  {
   "cell_type": "code",
   "execution_count": 6,
   "id": "dd94b5f0",
   "metadata": {},
   "outputs": [
    {
     "name": "stdout",
     "output_type": "stream",
     "text": [
      "Enter age:45\n",
      "Enter age:64\n",
      "Enter age:23\n",
      "64 is oldest\n",
      "23 is youngest\n"
     ]
    }
   ],
   "source": [
    "a=int(input('Enter age:'))\n",
    "b=int(input('Enter age:'))\n",
    "c=int(input('Enter age:'))\n",
    "if(a>b and a>c ):\n",
    "    print(a,\"is oldest\")\n",
    "elif(b>c):\n",
    "    print(b,\"is oldest\")\n",
    "else:\n",
    "    print(c,\"is oldest\")\n",
    "if(a<b and a<c ):\n",
    "    print(a,\"is youngest\")\n",
    "elif(b<c):\n",
    "    print(b,\"is youngest\")\n",
    "else:\n",
    "    print(c,\"is youngest\")"
   ]
  }
 ],
 "metadata": {
  "kernelspec": {
   "display_name": "Python 3 (ipykernel)",
   "language": "python",
   "name": "python3"
  },
  "language_info": {
   "codemirror_mode": {
    "name": "ipython",
    "version": 3
   },
   "file_extension": ".py",
   "mimetype": "text/x-python",
   "name": "python",
   "nbconvert_exporter": "python",
   "pygments_lexer": "ipython3",
   "version": "3.9.13"
  }
 },
 "nbformat": 4,
 "nbformat_minor": 5
}

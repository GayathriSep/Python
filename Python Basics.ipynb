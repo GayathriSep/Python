{
 "cells": [
  {
   "cell_type": "markdown",
   "id": "79dab814",
   "metadata": {},
   "source": [
    "# Write a program to print yourself introduction"
   ]
  },
  {
   "cell_type": "code",
   "execution_count": 9,
   "id": "4fb3120d",
   "metadata": {},
   "outputs": [
    {
     "name": "stdout",
     "output_type": "stream",
     "text": [
      "I am Gayathri from Salem.I have completed my Masters degree in the stream of VLSI Design in 2021 and completed my Bachelors degree in the stream of Electronics and Communication Engineering in 2018.My hobby is teaching. I have 1 year experience as a Analyst in IT domain and I am fond of getting a good position in Data Analytics career where I can exlpore my skill and work for the development of organization and myself.\n"
     ]
    }
   ],
   "source": [
    "print(\"I am Gayathri from Salem.I have completed my Masters degree in the stream of VLSI Design in 2021 and completed my Bachelors degree in the stream of Electronics and Communication Engineering in 2018.\"\n",
    "       \"My hobby is teaching. I have 1 year experience as a Analyst in IT domain and I am fond of getting a good position in Data Analytics career where I can exlpore my skill and work for the development of organization and myself.\")"
   ]
  },
  {
   "cell_type": "markdown",
   "id": "4efb3cbb",
   "metadata": {},
   "source": [
    "# Write a program to perform the following operations:\n",
    "Addition\n",
    "Subtraction\n",
    "Multiplication\n",
    "Division\n",
    "Modulus\n",
    "Exponent"
   ]
  },
  {
   "cell_type": "markdown",
   "id": "92941dcc",
   "metadata": {},
   "source": [
    "# Addition"
   ]
  },
  {
   "cell_type": "code",
   "execution_count": null,
   "id": "4ffce9ba",
   "metadata": {},
   "outputs": [],
   "source": [
    "a=int(input(\"Enter first no : \"))\n",
    "b=int(input(\"Enter second no : \"))\n",
    "Sum=a+b\n",
    "print(\"Additon of two numbers is : \", Sum)"
   ]
  },
  {
   "cell_type": "markdown",
   "id": "91d28092",
   "metadata": {},
   "source": [
    "# Subtraction"
   ]
  },
  {
   "cell_type": "code",
   "execution_count": 15,
   "id": "27e0470f",
   "metadata": {},
   "outputs": [
    {
     "name": "stdout",
     "output_type": "stream",
     "text": [
      "Enter first no : 50\n",
      "Enter second no : 23\n",
      "Difference of two numbers is :  27\n"
     ]
    }
   ],
   "source": [
    "a=int(input(\"Enter first no : \"))\n",
    "b=int(input(\"Enter second no : \"))\n",
    "Difference=a-b\n",
    "print(\"Difference of two numbers is : \", Difference)"
   ]
  },
  {
   "cell_type": "markdown",
   "id": "f48eb446",
   "metadata": {},
   "source": [
    "# Multiplication"
   ]
  },
  {
   "cell_type": "code",
   "execution_count": 17,
   "id": "936620e5",
   "metadata": {},
   "outputs": [
    {
     "name": "stdout",
     "output_type": "stream",
     "text": [
      "Enter first no : 4\n",
      "Enter second no : 89\n",
      "Product of two numbers is :  356\n"
     ]
    }
   ],
   "source": [
    "a=int(input(\"Enter first no : \"))\n",
    "b=int(input(\"Enter second no : \"))\n",
    "Product=a*b\n",
    "print(\"Product of two numbers is : \", Product)"
   ]
  },
  {
   "cell_type": "markdown",
   "id": "fa1624ea",
   "metadata": {},
   "source": [
    "# Division"
   ]
  },
  {
   "cell_type": "code",
   "execution_count": 18,
   "id": "07c9fe9a",
   "metadata": {},
   "outputs": [
    {
     "name": "stdout",
     "output_type": "stream",
     "text": [
      "Enter first no : 60\n",
      "Enter second no : 12\n",
      "Division of two numbers is :  5.0\n"
     ]
    }
   ],
   "source": [
    "a=int(input(\"Enter first no : \"))\n",
    "b=int(input(\"Enter second no : \"))\n",
    "Division=a/b\n",
    "print(\"Division of two numbers is : \", Division)"
   ]
  },
  {
   "cell_type": "code",
   "execution_count": 24,
   "id": "6e709fe5",
   "metadata": {},
   "outputs": [
    {
     "name": "stdout",
     "output_type": "stream",
     "text": [
      "Enter first no : 60\n",
      "Enter second no : 12\n",
      "Floor Division of two numbers is :  5\n"
     ]
    }
   ],
   "source": [
    "a=int(input(\"Enter first no : \"))\n",
    "b=int(input(\"Enter second no : \"))\n",
    "Division=a//b\n",
    "print(\"Floor Division of two numbers is : \", Division)"
   ]
  },
  {
   "cell_type": "markdown",
   "id": "da9e44bc",
   "metadata": {},
   "source": [
    "# Modulus"
   ]
  },
  {
   "cell_type": "code",
   "execution_count": 25,
   "id": "09f15f43",
   "metadata": {},
   "outputs": [
    {
     "name": "stdout",
     "output_type": "stream",
     "text": [
      "Enter first no : 24\n",
      "Enter second no : 12\n",
      "Modulus of two numbers is :  0\n"
     ]
    }
   ],
   "source": [
    "a=int(input(\"Enter first no : \"))\n",
    "b=int(input(\"Enter second no : \"))\n",
    "Modulus=a%b\n",
    "print(\"Modulus of two numbers is : \", Modulus)"
   ]
  },
  {
   "cell_type": "markdown",
   "id": "3a4116b8",
   "metadata": {},
   "source": [
    "# Exponent"
   ]
  },
  {
   "cell_type": "code",
   "execution_count": 28,
   "id": "2ce75517",
   "metadata": {},
   "outputs": [
    {
     "name": "stdout",
     "output_type": "stream",
     "text": [
      "Enter first no : 3\n",
      "Enter second no : 5\n",
      "Exponent is :  243\n"
     ]
    }
   ],
   "source": [
    "a=int(input(\"Enter first no : \"))\n",
    "b=int(input(\"Enter second no : \"))\n",
    "Exponent=a**b\n",
    "print(\"Exponent is : \", Exponent)"
   ]
  },
  {
   "cell_type": "markdown",
   "id": "01627a69",
   "metadata": {},
   "source": [
    "# Write a program to swap two numbers"
   ]
  },
  {
   "cell_type": "code",
   "execution_count": 29,
   "id": "6180f86c",
   "metadata": {},
   "outputs": [
    {
     "name": "stdout",
     "output_type": "stream",
     "text": [
      "Enter first no : 10\n",
      "Enter second no : 20\n",
      "Swapping of two numbers is :  20 10\n"
     ]
    }
   ],
   "source": [
    "a=int(input(\"Enter first no : \"))\n",
    "b=int(input(\"Enter second no : \"))\n",
    "temp=a\n",
    "a=b\n",
    "b=temp\n",
    "print(\"Swapping of two numbers is : \", a,b)"
   ]
  },
  {
   "cell_type": "markdown",
   "id": "ed99b60b",
   "metadata": {},
   "source": [
    "# Write a program to swap two numbers without using temporary variable"
   ]
  },
  {
   "cell_type": "code",
   "execution_count": 30,
   "id": "f398abb0",
   "metadata": {},
   "outputs": [
    {
     "name": "stdout",
     "output_type": "stream",
     "text": [
      "Enter first no : 10\n",
      "Enter second no : 20\n",
      "Swapping of two numbers without temporary variable is :  20 10\n"
     ]
    }
   ],
   "source": [
    "a=int(input(\"Enter first no : \"))\n",
    "b=int(input(\"Enter second no : \"))\n",
    "a=a+b\n",
    "b=a-b\n",
    "a=a-b\n",
    "print(\"Swapping of two numbers without temporary variable is : \", a,b)"
   ]
  },
  {
   "cell_type": "markdown",
   "id": "cabda6cc",
   "metadata": {},
   "source": [
    "# Write a program to compute simple interest"
   ]
  },
  {
   "cell_type": "code",
   "execution_count": 49,
   "id": "6ddc5a07",
   "metadata": {},
   "outputs": [
    {
     "name": "stdout",
     "output_type": "stream",
     "text": [
      "Enter Principal amount : 1000\n",
      "Enter no. of years :2\n",
      "Enter rate of interest :5\n",
      "Simple Interest is : 100.0\n"
     ]
    }
   ],
   "source": [
    "p=int(input(\"Enter Principal amount : \"))\n",
    "n=int(input(\"Enter no. of years :\"))\n",
    "r=int(input(\"Enter rate of interest :\"))\n",
    "SI=p*n*r/100\n",
    "print(\"Simple Interest is :\", SI)"
   ]
  },
  {
   "cell_type": "markdown",
   "id": "e378d298",
   "metadata": {},
   "source": [
    "# Write a program to find average of five numbers by user input"
   ]
  },
  {
   "cell_type": "code",
   "execution_count": 50,
   "id": "6ab847a6",
   "metadata": {},
   "outputs": [
    {
     "name": "stdout",
     "output_type": "stream",
     "text": [
      "Enter first no : 10\n",
      "Enter second no : 23\n",
      "Enter third no : 45\n",
      "Enter fourth no : 67\n",
      "Enter fifth no : 89\n",
      "Average is :  162.8\n"
     ]
    }
   ],
   "source": [
    "a=int(input(\"Enter first no : \"))\n",
    "b=int(input(\"Enter second no : \"))\n",
    "c=int(input(\"Enter third no : \"))\n",
    "d=int(input(\"Enter fourth no : \"))\n",
    "e=int(input(\"Enter fifth no : \"))\n",
    "Average=a+b+c+d+e/5\n",
    "print(\"Average is : \", Average)"
   ]
  },
  {
   "cell_type": "markdown",
   "id": "0c3c7727",
   "metadata": {},
   "source": [
    "# Write a program to calculate the discriminant of a quadratic equation"
   ]
  },
  {
   "cell_type": "code",
   "execution_count": 58,
   "id": "6fc05a60",
   "metadata": {},
   "outputs": [
    {
     "name": "stdout",
     "output_type": "stream",
     "text": [
      "Enter first no : 9\n",
      "Enter second no : 2\n",
      "Enter third no : 4\n",
      "Discriminant of Quadratic equation is -140\n"
     ]
    }
   ],
   "source": [
    "a=int(input(\"Enter first no : \"))\n",
    "b=int(input(\"Enter second no : \"))\n",
    "c=int(input(\"Enter third no : \"))\n",
    "Value=(b*b)-(4*a*c)\n",
    "print(\"Discriminant of Quadratic equation is\", Value)"
   ]
  },
  {
   "cell_type": "markdown",
   "id": "800b3a2a",
   "metadata": {},
   "source": [
    "# Write a program to calculate the areas of the following shapes:\n",
    "Rectangle\n",
    "Square\n",
    "Traingle\n",
    "Circle"
   ]
  },
  {
   "cell_type": "markdown",
   "id": "b7fbec35",
   "metadata": {},
   "source": [
    "# Rectangle"
   ]
  },
  {
   "cell_type": "code",
   "execution_count": 59,
   "id": "b408d22a",
   "metadata": {},
   "outputs": [
    {
     "name": "stdout",
     "output_type": "stream",
     "text": [
      "Enter length : 5\n",
      "Enter breadth : 4\n",
      "Area of rectangle is :  20\n"
     ]
    }
   ],
   "source": [
    "l=int(input(\"Enter length : \"))\n",
    "b=int(input(\"Enter breadth : \"))\n",
    "Area=l*b\n",
    "print(\"Area of rectangle is : \", Area)"
   ]
  },
  {
   "cell_type": "markdown",
   "id": "3a2c2dc6",
   "metadata": {},
   "source": [
    "# Square"
   ]
  },
  {
   "cell_type": "code",
   "execution_count": 60,
   "id": "73c6fa35",
   "metadata": {},
   "outputs": [
    {
     "name": "stdout",
     "output_type": "stream",
     "text": [
      "Enter side : 5\n",
      "Area of square is :  25\n"
     ]
    }
   ],
   "source": [
    "a=int(input(\"Enter side : \"))\n",
    "Area=a*a\n",
    "print(\"Area of square is : \", Area)"
   ]
  },
  {
   "cell_type": "markdown",
   "id": "e28ef07f",
   "metadata": {},
   "source": [
    "# Triangle"
   ]
  },
  {
   "cell_type": "code",
   "execution_count": 61,
   "id": "ac0e66a9",
   "metadata": {},
   "outputs": [
    {
     "name": "stdout",
     "output_type": "stream",
     "text": [
      "Enter base : 6\n",
      "Enter height : 4\n",
      "Area of triangle is :  12.0\n"
     ]
    }
   ],
   "source": [
    "b=int(input(\"Enter base : \"))\n",
    "h=int(input(\"Enter height : \"))\n",
    "Area=0.5*b*h\n",
    "print(\"Area of triangle is : \", Area)"
   ]
  },
  {
   "cell_type": "markdown",
   "id": "23b2679c",
   "metadata": {},
   "source": [
    "# Circle"
   ]
  },
  {
   "cell_type": "code",
   "execution_count": 62,
   "id": "3c508858",
   "metadata": {},
   "outputs": [
    {
     "name": "stdout",
     "output_type": "stream",
     "text": [
      "Enter radius : 6\n",
      "Area of circle is :  113.14285714285714\n"
     ]
    }
   ],
   "source": [
    "r=int(input(\"Enter radius : \"))\n",
    "Area=(22/7)*r*r\n",
    "print(\"Area of circle is : \", Area)"
   ]
  },
  {
   "cell_type": "markdown",
   "id": "53f45641",
   "metadata": {},
   "source": [
    "# Write a program to calculate the salary of an employee whose basic salary is entered by the user, DA is 5% of basic salary, HRA is 7% of basic salary and PF is 3% of basic salary"
   ]
  },
  {
   "cell_type": "code",
   "execution_count": 67,
   "id": "be34d185",
   "metadata": {},
   "outputs": [
    {
     "name": "stdout",
     "output_type": "stream",
     "text": [
      "Enter basic pay :30000\n",
      "Net salary is  32700.0\n"
     ]
    }
   ],
   "source": [
    "salary=int(input(\"Enter basic pay :\"))\n",
    "hra=float((7/100)*salary)\n",
    "da=float((5/100)*salary)\n",
    "pf=float((3/100)*salary)\n",
    "Net_salary=salary+hra+da-pf\n",
    "print(\"Net salary is \", Net_salary)"
   ]
  },
  {
   "cell_type": "markdown",
   "id": "2b92b4e4",
   "metadata": {},
   "source": [
    "# Write a program to calculate the power of a number"
   ]
  },
  {
   "cell_type": "code",
   "execution_count": 68,
   "id": "f99824c6",
   "metadata": {},
   "outputs": [
    {
     "name": "stdout",
     "output_type": "stream",
     "text": [
      "Enter first no : 2\n",
      "Enter second no : 3\n",
      "Power is :  8\n"
     ]
    }
   ],
   "source": [
    "a=int(input(\"Enter first no : \"))\n",
    "b=int(input(\"Enter second no : \"))\n",
    "Power=pow(a,b)\n",
    "print(\"Power is : \", Power)"
   ]
  },
  {
   "cell_type": "markdown",
   "id": "02e0176c",
   "metadata": {},
   "source": [
    "# Write a program to get the Python verson you are using"
   ]
  },
  {
   "cell_type": "code",
   "execution_count": 74,
   "id": "c962d7b6",
   "metadata": {},
   "outputs": [
    {
     "name": "stdout",
     "output_type": "stream",
     "text": [
      "Python version\n",
      "3.9.13 (main, Aug 25 2022, 23:51:50) [MSC v.1916 64 bit (AMD64)]\n"
     ]
    }
   ],
   "source": [
    "import sys\n",
    "print(\"Python version\")\n",
    "print (sys.version)"
   ]
  },
  {
   "cell_type": "code",
   "execution_count": null,
   "id": "1599471d",
   "metadata": {},
   "outputs": [],
   "source": []
  }
 ],
 "metadata": {
  "kernelspec": {
   "display_name": "Python 3 (ipykernel)",
   "language": "python",
   "name": "python3"
  },
  "language_info": {
   "codemirror_mode": {
    "name": "ipython",
    "version": 3
   },
   "file_extension": ".py",
   "mimetype": "text/x-python",
   "name": "python",
   "nbconvert_exporter": "python",
   "pygments_lexer": "ipython3",
   "version": "3.9.13"
  }
 },
 "nbformat": 4,
 "nbformat_minor": 5
}

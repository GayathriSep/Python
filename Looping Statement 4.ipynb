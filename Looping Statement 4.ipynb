{
 "cells": [
  {
   "cell_type": "markdown",
   "id": "c220095e",
   "metadata": {},
   "source": [
    "# Write a program to print the following number pattern using a loop"
   ]
  },
  {
   "cell_type": "markdown",
   "id": "81f6d812",
   "metadata": {},
   "source": [
    "* 1\n",
    "* 12\n",
    "* 123\n",
    "* 1234\n",
    "* 12345"
   ]
  },
  {
   "cell_type": "code",
   "execution_count": 13,
   "id": "1c894be3",
   "metadata": {},
   "outputs": [
    {
     "name": "stdout",
     "output_type": "stream",
     "text": [
      "1\n",
      "12\n",
      "123\n",
      "1234\n",
      "12345\n"
     ]
    }
   ],
   "source": [
    "for i in range(1,6):\n",
    "    for j in range(1,i+1):\n",
    "        print(j,end=\"\")\n",
    "    print()"
   ]
  },
  {
   "cell_type": "markdown",
   "id": "68f63be2",
   "metadata": {},
   "source": [
    "# Print the below pattern\n",
    "* 1\n",
    "* 22\n",
    "* 333\n",
    "* 4444\n",
    "* 55555"
   ]
  },
  {
   "cell_type": "code",
   "execution_count": 7,
   "id": "b31da991",
   "metadata": {},
   "outputs": [
    {
     "name": "stdout",
     "output_type": "stream",
     "text": [
      "1\n",
      "22\n",
      "333\n",
      "4444\n",
      "55555\n"
     ]
    }
   ],
   "source": [
    "for i in range(1,6):\n",
    "    for j in range(i):\n",
    "        print(i,end=\"\")\n",
    "    print()"
   ]
  },
  {
   "cell_type": "markdown",
   "id": "983f65f1",
   "metadata": {},
   "source": [
    "# Print the below pattern\n",
    "* 54321\n",
    "* 5432\n",
    "* 543\n",
    "* 54\n",
    "* 5\n"
   ]
  },
  {
   "cell_type": "code",
   "execution_count": 25,
   "id": "08571f7d",
   "metadata": {},
   "outputs": [
    {
     "name": "stdout",
     "output_type": "stream",
     "text": [
      "54321\n",
      "5432\n",
      "543\n",
      "54\n",
      "5\n"
     ]
    }
   ],
   "source": [
    "for i in range(6,1,-1):\n",
    "    for j in range(5,6-i,-1):\n",
    "        print(j,end=\"\")\n",
    "    print()"
   ]
  },
  {
   "cell_type": "markdown",
   "id": "575d3dd4",
   "metadata": {},
   "source": [
    "# Print the below pattern\n",
    "* 12345\n",
    "* 1234\n",
    "* 123\n",
    "* 12\n",
    "* 1"
   ]
  },
  {
   "cell_type": "code",
   "execution_count": 28,
   "id": "f97f7a78",
   "metadata": {},
   "outputs": [
    {
     "name": "stdout",
     "output_type": "stream",
     "text": [
      "12345\n",
      "1234\n",
      "123\n",
      "12\n",
      "1\n"
     ]
    }
   ],
   "source": [
    "for i in range(6,1,-1):\n",
    "    for j in range(1,i):\n",
    "        print(j,end=\"\")\n",
    "    print()"
   ]
  },
  {
   "cell_type": "markdown",
   "id": "7ea77527",
   "metadata": {},
   "source": [
    "# Print the below pattern\n",
    "* 54321\n",
    "* 4321\n",
    "* 321\n",
    "* 21\n",
    "* 1"
   ]
  },
  {
   "cell_type": "code",
   "execution_count": 37,
   "id": "8265730e",
   "metadata": {},
   "outputs": [
    {
     "name": "stdout",
     "output_type": "stream",
     "text": [
      "54321\n",
      "4321\n",
      "321\n",
      "21\n",
      "1\n"
     ]
    }
   ],
   "source": [
    "for i in range(6,1,-1):\n",
    "    for j in range(i-1,0,-1):\n",
    "        print(j,end=\"\")\n",
    "    print()"
   ]
  }
 ],
 "metadata": {
  "kernelspec": {
   "display_name": "Python 3 (ipykernel)",
   "language": "python",
   "name": "python3"
  },
  "language_info": {
   "codemirror_mode": {
    "name": "ipython",
    "version": 3
   },
   "file_extension": ".py",
   "mimetype": "text/x-python",
   "name": "python",
   "nbconvert_exporter": "python",
   "pygments_lexer": "ipython3",
   "version": "3.9.13"
  }
 },
 "nbformat": 4,
 "nbformat_minor": 5
}

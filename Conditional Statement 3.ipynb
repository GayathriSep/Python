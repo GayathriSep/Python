{
 "cells": [
  {
   "cell_type": "markdown",
   "id": "217cc75e",
   "metadata": {},
   "source": [
    "# Write a program to enter a number between (1-4) and perform following operations - 1. Addition, 2. Subtraction, 3. Multiplication, 4. Division"
   ]
  },
  {
   "cell_type": "code",
   "execution_count": 1,
   "id": "a98a35eb",
   "metadata": {},
   "outputs": [
    {
     "name": "stdout",
     "output_type": "stream",
     "text": [
      "Enter number between 1-4 3\n",
      "Enter input a 3\n",
      "Enter input b 4\n",
      "Product is 12\n"
     ]
    }
   ],
   "source": [
    "n=int(input(\"Enter number between 1-4 \"))\n",
    "a=int(input(\"Enter input a \"))\n",
    "b=int(input(\"Enter input b \"))\n",
    "if(n==1):\n",
    "    print(\"Sum is\", a+b)\n",
    "elif(n==2):\n",
    "    print(\"Difference is\", a-b)\n",
    "elif(n==3):\n",
    "    print(\"Product is\",  a*b)\n",
    "elif(n==4):\n",
    "    print(\"Division is\", a//b)\n",
    "else:\n",
    "    print(\"Enter valid number between 1-4\")"
   ]
  },
  {
   "cell_type": "markdown",
   "id": "4be74636",
   "metadata": {},
   "source": [
    "# Write a program to enter a number between (1-12) and print respective month"
   ]
  },
  {
   "cell_type": "code",
   "execution_count": 2,
   "id": "362b12ab",
   "metadata": {},
   "outputs": [
    {
     "name": "stdout",
     "output_type": "stream",
     "text": [
      "Enter number between 1-12 9\n",
      "September\n"
     ]
    }
   ],
   "source": [
    "a=int(input(\"Enter number between 1-12 \"))\n",
    "if a==1:\n",
    "    print(\"January\")\n",
    "elif a==2:\n",
    "    print(\"February\")\n",
    "elif a==3:\n",
    "    print(\"March\")\n",
    "elif a==4:\n",
    "    print(\"April\")\n",
    "elif a==5:\n",
    "    print(\"May\")\n",
    "elif a==6:\n",
    "    print(\"June\")\n",
    "elif a==7:\n",
    "    print(\"July\")\n",
    "elif a==8:\n",
    "    print(\"August\")\n",
    "elif a==9:\n",
    "    print(\"September\")\n",
    "elif a==10:\n",
    "    print(\"October\")\n",
    "elif a==11:\n",
    "    print(\"November\")\n",
    "elif a==12:\n",
    "    print(\"December\")\n",
    "else:\n",
    "    print(\"Enter valid number between 1-12\")"
   ]
  },
  {
   "cell_type": "markdown",
   "id": "aef1283f",
   "metadata": {},
   "source": [
    "# Write a program to convert temperature to fahrenheit and from celsius to fahrenheit"
   ]
  },
  {
   "cell_type": "code",
   "execution_count": 9,
   "id": "e3645912",
   "metadata": {},
   "outputs": [
    {
     "name": "stdout",
     "output_type": "stream",
     "text": [
      "Choose from below options:\n",
      "1.Celsius to Fahrenheit.\n",
      "2.Fahrenheit to Celsius.\n",
      "option(1/2):1\n",
      "Temperature in Celsius:56\n",
      "Temperature in Fahrenheit: 132.8\n"
     ]
    }
   ],
   "source": [
    "print(\"Choose from below options:\")\n",
    "print(\"1.Celsius to Fahrenheit.\")\n",
    "print(\"2.Fahrenheit to Celsius.\")\n",
    "o=int(input(\"option(1/2):\"))\n",
    "if(o==1):\n",
    "    c=float(input(\"Temperature in Celsius:\"))\n",
    "    f=1.8*(c)+32.0\n",
    "    f=round(f,1) #temperature in fahrenheit precise to 1 decimal place\n",
    "    print(\"Temperature in Fahrenheit:\",f)\n",
    "elif(o==2):\n",
    "    f=float(input(\"Temperature in Fahrenheit:\"))\n",
    "    c=(f-32)/1.8\n",
    "    c=round(c,1) #temperature in celsius precise to 1 decimal place\n",
    "    print(\"Temperature in Celsius:\",c)\n",
    "else:\n",
    "    print(\"Choose 1 or 2.\")"
   ]
  }
 ],
 "metadata": {
  "kernelspec": {
   "display_name": "Python 3 (ipykernel)",
   "language": "python",
   "name": "python3"
  },
  "language_info": {
   "codemirror_mode": {
    "name": "ipython",
    "version": 3
   },
   "file_extension": ".py",
   "mimetype": "text/x-python",
   "name": "python",
   "nbconvert_exporter": "python",
   "pygments_lexer": "ipython3",
   "version": "3.9.13"
  }
 },
 "nbformat": 4,
 "nbformat_minor": 5
}

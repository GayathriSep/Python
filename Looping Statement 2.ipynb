{
 "cells": [
  {
   "cell_type": "markdown",
   "id": "e4f8610a",
   "metadata": {},
   "source": [
    "# Write a program to check whether a given number is palindrome or not"
   ]
  },
  {
   "cell_type": "code",
   "execution_count": null,
   "id": "4767e888",
   "metadata": {},
   "outputs": [],
   "source": [
    "n=int(input(\"Enter the number \")) \n",
    "temp=n\n",
    "rev=0\n",
    "while(n!=0):\n",
    "    rem=n%10                          \n",
    "    rev=rev*10+rem                    \n",
    "    n=n//10                             \n",
    "if(temp==rev):\n",
    "    print(\"The number is a palindrome\")\n",
    "else:\n",
    "    print(\"The number is not a palindrome\")"
   ]
  },
  {
   "cell_type": "code",
   "execution_count": null,
   "id": "c67cfaa4",
   "metadata": {},
   "outputs": [],
   "source": [
    "n=int(input(\"Enter the number \")) \n",
    "temp=n\n",
    "rev=0\n",
    "for i in range(1,n+1):\n",
    "    rem=n%10                          \n",
    "    rev=rev*10+rem                    \n",
    "    n=n//10                             \n",
    "if(temp==rev):\n",
    "    print(\"The number is a palindrome\")\n",
    "else:\n",
    "    print(\"The number is not a palindrome\")"
   ]
  },
  {
   "cell_type": "markdown",
   "id": "752d1d55",
   "metadata": {},
   "source": [
    "# Write a program to find the reverse of a number"
   ]
  },
  {
   "cell_type": "code",
   "execution_count": null,
   "id": "4da1fb3c",
   "metadata": {},
   "outputs": [],
   "source": [
    "n=int(input(\"Enter the number \"))  \n",
    "rev=0\n",
    "while(n!=0):\n",
    "    rem=n%10                        \n",
    "    rev=rev*10+rem                   \n",
    "    n=n//10                             \n",
    "print(\"Reverse of a number is\", str(rev))"
   ]
  },
  {
   "cell_type": "code",
   "execution_count": null,
   "id": "7fc55f68",
   "metadata": {},
   "outputs": [],
   "source": [
    "n = '6783'\n",
    "reverse = ''\n",
    "for i in range(len(n), 0, -1):\n",
    "    reverse=reverse+n[i-1]\n",
    "print('The reverse number is =', reverse)"
   ]
  },
  {
   "cell_type": "markdown",
   "id": "52ab8d5b",
   "metadata": {},
   "source": [
    "# Write a program to find the sum of reverse of a number "
   ]
  },
  {
   "cell_type": "code",
   "execution_count": null,
   "id": "8b9d40d7",
   "metadata": {},
   "outputs": [],
   "source": [
    "n=int(input(\"Enter the number \"))  \n",
    "rev=0\n",
    "sum=0\n",
    "while(n!=0):\n",
    "    rem=n%10                          \n",
    "    rev=rev*10+rem\n",
    "    n=n//10\n",
    "    sum=sum+rem\n",
    "print(\"Reverse of a number is\", str(rev))\n",
    "print(\"Sum of reverse of a number is\", str(sum))"
   ]
  },
  {
   "cell_type": "markdown",
   "id": "ba84c3fb",
   "metadata": {},
   "source": [
    "# Write a program to find the factors of a number "
   ]
  },
  {
   "cell_type": "code",
   "execution_count": null,
   "id": "36a930a8",
   "metadata": {},
   "outputs": [],
   "source": [
    "n=int(input(\"Enter the number \"))  \n",
    "i=1\n",
    "while i<=n:\n",
    "    if n%i==0:\n",
    "        print(i)\n",
    "    i=i+1"
   ]
  },
  {
   "cell_type": "markdown",
   "id": "1fe74f92",
   "metadata": {},
   "source": [
    "# Write a program to check whether a given number is prime or not"
   ]
  },
  {
   "cell_type": "code",
   "execution_count": 16,
   "id": "5afab08d",
   "metadata": {},
   "outputs": [
    {
     "name": "stdout",
     "output_type": "stream",
     "text": [
      "Enter a number: 3\n",
      "3 is a prime number\n"
     ]
    }
   ],
   "source": [
    "num = int(input(\"Enter a number: \"))\n",
    "# If number is greater than 1\n",
    "if num > 1:\n",
    "   # Check if factor exist  \n",
    "   for i in range(2,num):\n",
    "        if(num % i)==0:\n",
    "            print(num,\"is not a prime number\")\n",
    "            break\n",
    "   else:\n",
    "        print(num,\"is a prime number\")\n",
    "       \n",
    "# Else if the input number is less than or equal to 1\n",
    "else:\n",
    "    print(num,\"is not a prime number\")"
   ]
  },
  {
   "cell_type": "markdown",
   "id": "d38db1ce",
   "metadata": {},
   "source": [
    "# Write a program to print prime number between 1 to 100"
   ]
  },
  {
   "cell_type": "code",
   "execution_count": 27,
   "id": "ea71aef5",
   "metadata": {},
   "outputs": [
    {
     "name": "stdout",
     "output_type": "stream",
     "text": [
      "Enter a number: 100\n",
      "2,3,5,7,11,13,17,19,23,29,31,37,41,43,47,53,59,61,67,71,73,79,83,89,97,"
     ]
    }
   ],
   "source": [
    "num = int(input(\"Enter a number: \"))\n",
    "for i in range(2,num+1):\n",
    "    for j in range(2,num+1):\n",
    "        if i%j == 0:\n",
    "            break\n",
    "    if i == j:\n",
    "        print(i,end=',')"
   ]
  },
  {
   "cell_type": "markdown",
   "id": "d3914f71",
   "metadata": {},
   "source": [
    "# Write a program to print number in reverse order entered by the user"
   ]
  },
  {
   "cell_type": "code",
   "execution_count": 28,
   "id": "05384ec2",
   "metadata": {},
   "outputs": [
    {
     "name": "stdout",
     "output_type": "stream",
     "text": [
      "654321\n"
     ]
    }
   ],
   "source": [
    "n='123456'\n",
    "print(str(n[::-1]))"
   ]
  },
  {
   "cell_type": "markdown",
   "id": "703727af",
   "metadata": {},
   "source": [
    "# Write a program to print the cube of all numbers from 1 to a give number"
   ]
  },
  {
   "cell_type": "code",
   "execution_count": 30,
   "id": "fdedf27d",
   "metadata": {},
   "outputs": [
    {
     "name": "stdout",
     "output_type": "stream",
     "text": [
      "Enter number:5\n",
      "Cube of all numbers are: 1\n",
      "Cube of all numbers are: 8\n",
      "Cube of all numbers are: 27\n",
      "Cube of all numbers are: 64\n",
      "Cube of all numbers are: 125\n"
     ]
    }
   ],
   "source": [
    "n=int(input('Enter number:'))\n",
    "i=1\n",
    "for i in range(1,n+1):\n",
    "    print(\"Cube of all numbers are:\", i**3)"
   ]
  }
 ],
 "metadata": {
  "kernelspec": {
   "display_name": "Python 3 (ipykernel)",
   "language": "python",
   "name": "python3"
  },
  "language_info": {
   "codemirror_mode": {
    "name": "ipython",
    "version": 3
   },
   "file_extension": ".py",
   "mimetype": "text/x-python",
   "name": "python",
   "nbconvert_exporter": "python",
   "pygments_lexer": "ipython3",
   "version": "3.9.13"
  }
 },
 "nbformat": 4,
 "nbformat_minor": 5
}

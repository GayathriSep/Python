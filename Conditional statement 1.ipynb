{
 "cells": [
  {
   "cell_type": "markdown",
   "id": "9e77ef2a",
   "metadata": {},
   "source": [
    "# Write a program to check whether a given number is even or odd"
   ]
  },
  {
   "cell_type": "code",
   "execution_count": 3,
   "id": "7fa6a0b8",
   "metadata": {},
   "outputs": [
    {
     "name": "stdout",
     "output_type": "stream",
     "text": [
      "Enter a number :5\n",
      "The given number is odd:  5\n"
     ]
    }
   ],
   "source": [
    "a=int(input(\"Enter a number :\"))\n",
    "if a%2==0:\n",
    "    print(\"The given number is even, \",a)\n",
    "else:\n",
    "    print(\"The given number is odd: \",a)   "
   ]
  },
  {
   "cell_type": "markdown",
   "id": "f6168742",
   "metadata": {},
   "source": [
    "# Write a program to check whether an alphabet is vowel or not"
   ]
  },
  {
   "cell_type": "code",
   "execution_count": 12,
   "id": "9672d6a5",
   "metadata": {},
   "outputs": [
    {
     "name": "stdout",
     "output_type": "stream",
     "text": [
      "Enter a alphabete\n",
      "e is a vowel\n"
     ]
    }
   ],
   "source": [
    "ch=input(\"Enter a alphabet\")\n",
    "if(ch==\"a\" or ch==\"e\" or ch==\"i\" or ch==\"o\" or ch==\"u\" or ch==\"A\" or ch==\"E\" or ch==\"I\" or ch==\"O\" or ch==\"U\"):\n",
    "    print(ch, \"is a vowel\")\n",
    "else:\n",
    "    print(ch, \"is not a vowel\")  "
   ]
  },
  {
   "cell_type": "markdown",
   "id": "322c1cc7",
   "metadata": {},
   "source": [
    "# Write a program to check whether a person is eligible to vote or not"
   ]
  },
  {
   "cell_type": "code",
   "execution_count": 13,
   "id": "31c6a2b7",
   "metadata": {},
   "outputs": [
    {
     "name": "stdout",
     "output_type": "stream",
     "text": [
      "Enter age of a person :19\n",
      "The person is eligible to vote\n"
     ]
    }
   ],
   "source": [
    "a=int(input(\"Enter age of a person :\"))\n",
    "if a>=18:\n",
    "    print(\"The person is eligible to vote\")\n",
    "else:\n",
    "    print(\"The person is not eligible to vote\")  "
   ]
  },
  {
   "cell_type": "markdown",
   "id": "5ca95784",
   "metadata": {},
   "source": [
    "# Write a program to check whether a given number is positive, negative or zero"
   ]
  },
  {
   "cell_type": "code",
   "execution_count": 15,
   "id": "c6146a69",
   "metadata": {},
   "outputs": [
    {
     "name": "stdout",
     "output_type": "stream",
     "text": [
      "Enter a number :-4\n",
      "The given number is negative\n"
     ]
    }
   ],
   "source": [
    "a=int(input(\"Enter a number :\"))\n",
    "if a>0:\n",
    "    print(\"The given number is positive\")\n",
    "elif a==0:\n",
    "    print(\"The given number is zero \") \n",
    "else:\n",
    "     print(\"The given number is negative\")"
   ]
  },
  {
   "cell_type": "markdown",
   "id": "727df537",
   "metadata": {},
   "source": [
    "# Write a program to check whether a given year is leap year or not"
   ]
  },
  {
   "cell_type": "code",
   "execution_count": 17,
   "id": "68c13710",
   "metadata": {},
   "outputs": [
    {
     "name": "stdout",
     "output_type": "stream",
     "text": [
      "Enter year :2000\n",
      "2000 is a leap year\n"
     ]
    }
   ],
   "source": [
    "year=int(input(\"Enter year :\"))\n",
    "if year%4==0 and year%100!=0 or year%400==0:\n",
    "    print(year, \"is a leap year\")\n",
    "else:\n",
    "    print(year, \"is not a leap year\") "
   ]
  },
  {
   "cell_type": "markdown",
   "id": "10c42eb9",
   "metadata": {},
   "source": [
    "# Write a program to check a triangle is equilateral, isosceles or scalence"
   ]
  },
  {
   "cell_type": "code",
   "execution_count": 27,
   "id": "d9efe9d5",
   "metadata": {},
   "outputs": [
    {
     "name": "stdout",
     "output_type": "stream",
     "text": [
      "Enter side value a:1\n",
      "Enter side value b:4\n",
      "Enter side value c:5\n",
      "Triangle is scalene\n"
     ]
    }
   ],
   "source": [
    "a=int(input(\"Enter side value a:\"))\n",
    "b=int(input(\"Enter side value b:\"))\n",
    "c=int(input(\"Enter side value c:\"))\n",
    "if a==b==c:\n",
    "    print(\"Triangle is equilateral\")\n",
    "elif a==b or b==c or c==a:\n",
    "    print(\"Triangle is isosceles\") \n",
    "else:\n",
    "    print(\"Triangle is scalene\")  "
   ]
  },
  {
   "cell_type": "markdown",
   "id": "06f87f64",
   "metadata": {},
   "source": [
    "# Write a program to check whether after selling a product its profit or loss"
   ]
  },
  {
   "cell_type": "code",
   "execution_count": 30,
   "id": "440e3a6b",
   "metadata": {},
   "outputs": [
    {
     "name": "stdout",
     "output_type": "stream",
     "text": [
      "Enter cost price:400\n",
      "Enter selling price:300\n",
      "It is loss\n"
     ]
    }
   ],
   "source": [
    "cost_price=int(input(\"Enter cost price:\"))\n",
    "selling_price=int(input(\"Enter selling price:\"))\n",
    "if selling_price>cost_price:\n",
    "    print(\"It is profit\")\n",
    "else:\n",
    "    print(\"It is loss\") "
   ]
  }
 ],
 "metadata": {
  "kernelspec": {
   "display_name": "Python 3 (ipykernel)",
   "language": "python",
   "name": "python3"
  },
  "language_info": {
   "codemirror_mode": {
    "name": "ipython",
    "version": 3
   },
   "file_extension": ".py",
   "mimetype": "text/x-python",
   "name": "python",
   "nbconvert_exporter": "python",
   "pygments_lexer": "ipython3",
   "version": "3.9.13"
  }
 },
 "nbformat": 4,
 "nbformat_minor": 5
}

{
 "cells": [
  {
   "cell_type": "markdown",
   "id": "f46eb17d",
   "metadata": {},
   "source": [
    "# Write a function to find the maximum of three numbers"
   ]
  },
  {
   "cell_type": "code",
   "execution_count": 18,
   "id": "4ab2babd",
   "metadata": {},
   "outputs": [
    {
     "name": "stdout",
     "output_type": "stream",
     "text": [
      "Enter a: 5\n",
      "Enter b: 7\n",
      "Enter c: 9\n",
      "Maximum Number is:  9\n"
     ]
    }
   ],
   "source": [
    "def max(a,b,c):\n",
    "    if a>b and a>c:\n",
    "        return a\n",
    "        print(a,\"is largerst number\")\n",
    "    elif b>c:\n",
    "        return b\n",
    "    else:\n",
    "        return c\n",
    "\n",
    "a=int(input(\"Enter a: \"))\n",
    "b=int(input(\"Enter b: \"))\n",
    "c=int(input(\"Enter c: \"))\n",
    "print(\"Maximum Number is: \",max(a,b,c)) "
   ]
  },
  {
   "cell_type": "markdown",
   "id": "63aeaf6f",
   "metadata": {},
   "source": [
    "# Write a function to sum all the numbers in the list"
   ]
  },
  {
   "cell_type": "code",
   "execution_count": 1,
   "id": "d5d77e7a",
   "metadata": {},
   "outputs": [
    {
     "name": "stdout",
     "output_type": "stream",
     "text": [
      "Sum is: 34\n"
     ]
    }
   ],
   "source": [
    "def add(y):\n",
    "    sum=0\n",
    "    for i in y:\n",
    "        sum=sum+i\n",
    "    print(\"Sum is:\",sum)\n",
    "\n",
    "x=[2,4,5,6,8,9]\n",
    "res=add(x)"
   ]
  },
  {
   "cell_type": "markdown",
   "id": "255c1c34",
   "metadata": {},
   "source": [
    "# Write a function to multiply all numbers in the list"
   ]
  },
  {
   "cell_type": "code",
   "execution_count": 3,
   "id": "f7021fec",
   "metadata": {},
   "outputs": [
    {
     "name": "stdout",
     "output_type": "stream",
     "text": [
      "Product is: 840\n"
     ]
    }
   ],
   "source": [
    "def pro(y):\n",
    "    product=1\n",
    "    for i in y:\n",
    "        product*=i\n",
    "    print(\"Product is:\",product)\n",
    "    \n",
    "x=[4,5,6,7]\n",
    "res=pro(x)"
   ]
  },
  {
   "cell_type": "markdown",
   "id": "a136cefc",
   "metadata": {},
   "source": [
    "# Write a function to reverse a string"
   ]
  },
  {
   "cell_type": "code",
   "execution_count": 4,
   "id": "045d51b8",
   "metadata": {},
   "outputs": [
    {
     "name": "stdout",
     "output_type": "stream",
     "text": [
      "Enter the stringmother\n"
     ]
    },
    {
     "data": {
      "text/plain": [
       "'rehtom'"
      ]
     },
     "execution_count": 4,
     "metadata": {},
     "output_type": "execute_result"
    }
   ],
   "source": [
    "def reverse_string(string):\n",
    "    return string[::-1]\n",
    "\n",
    "string=input(\"Enter the string\")\n",
    "reverse_string(string)\n"
   ]
  },
  {
   "cell_type": "markdown",
   "id": "5259e43d",
   "metadata": {},
   "source": [
    "# Write a function to calculate the factorial of a number"
   ]
  },
  {
   "cell_type": "code",
   "execution_count": 5,
   "id": "2c347a75",
   "metadata": {},
   "outputs": [
    {
     "name": "stdout",
     "output_type": "stream",
     "text": [
      "Enter number:6\n",
      "Factorial is 720\n"
     ]
    }
   ],
   "source": [
    "def fact(y):\n",
    "    fact=1\n",
    "    for i in range(1,y+1):\n",
    "        fact*=i\n",
    "    return fact\n",
    "    \n",
    "x=int(input(\"Enter number:\"))\n",
    "res=fact(x)\n",
    "print(\"Factorial is\", res)"
   ]
  },
  {
   "cell_type": "markdown",
   "id": "e1faa38f",
   "metadata": {},
   "source": [
    "# Write a function that accepts string and calculates the number of upper and lower characters"
   ]
  },
  {
   "cell_type": "code",
   "execution_count": 13,
   "id": "7ee1f477",
   "metadata": {},
   "outputs": [
    {
     "name": "stdout",
     "output_type": "stream",
     "text": [
      "Enter the string: Gayathri is a ME graduate\n",
      "LowerCase letter in the String  18\n",
      "UpperCase letter in the String  3\n"
     ]
    }
   ],
   "source": [
    "def calculate_upper_lower(x):\n",
    "  upper=0\n",
    "  lower=0\n",
    "  for i in x:\n",
    "      if i>='a' and i<='z':\n",
    "       lower=lower+1\n",
    "      if i >='A' and i<='Z':\n",
    "       upper=upper+1\n",
    "\n",
    "  print(\"LowerCase letter in the String \",lower)\n",
    "  print(\"UpperCase letter in the String \",upper)\n",
    "\n",
    "x=input(\"Enter the string: \")\n",
    "calculate_upper_lower(x)"
   ]
  },
  {
   "cell_type": "markdown",
   "id": "6753992d",
   "metadata": {},
   "source": [
    "# Write a function that takes a list and returns a new list with unique elements in the first list"
   ]
  },
  {
   "cell_type": "code",
   "execution_count": 14,
   "id": "6584fdac",
   "metadata": {},
   "outputs": [
    {
     "name": "stdout",
     "output_type": "stream",
     "text": [
      "[1, 2, 3, 4, 6, 7, 8, 9, 5]\n"
     ]
    }
   ],
   "source": [
    "def ulist(num):\n",
    "    uq=[]\n",
    "    for i in num:\n",
    "        if i not in uq:\n",
    "            uq.append(i)\n",
    "    return uq\n",
    "print(ulist([1,2,3,4,6,7,8,9,9,6,7,5,5]))\n"
   ]
  }
 ],
 "metadata": {
  "kernelspec": {
   "display_name": "Python 3 (ipykernel)",
   "language": "python",
   "name": "python3"
  },
  "language_info": {
   "codemirror_mode": {
    "name": "ipython",
    "version": 3
   },
   "file_extension": ".py",
   "mimetype": "text/x-python",
   "name": "python",
   "nbconvert_exporter": "python",
   "pygments_lexer": "ipython3",
   "version": "3.9.13"
  }
 },
 "nbformat": 4,
 "nbformat_minor": 5
}

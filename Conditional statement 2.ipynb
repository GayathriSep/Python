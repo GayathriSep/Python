{
 "cells": [
  {
   "cell_type": "markdown",
   "id": "3753e81c",
   "metadata": {},
   "source": [
    "# Write a program to enter two numbers and print the greatest number"
   ]
  },
  {
   "cell_type": "code",
   "execution_count": 2,
   "id": "42a82d9f",
   "metadata": {},
   "outputs": [
    {
     "name": "stdout",
     "output_type": "stream",
     "text": [
      "Enter first number 50\n",
      "Enter second number 30\n",
      "50 is greater\n"
     ]
    }
   ],
   "source": [
    "a=int(input(\"Enter first number \"))\n",
    "b=int(input(\"Enter second number \"))\n",
    "if a>b:\n",
    "    print(a, \"is greater\")\n",
    "else:\n",
    "    print(b, \"is greater\")"
   ]
  },
  {
   "cell_type": "markdown",
   "id": "1675d9a7",
   "metadata": {},
   "source": [
    "# Write a program to enter two numbers and print the smallest number"
   ]
  },
  {
   "cell_type": "code",
   "execution_count": 3,
   "id": "78353baa",
   "metadata": {},
   "outputs": [
    {
     "name": "stdout",
     "output_type": "stream",
     "text": [
      "Enter first number 50\n",
      "Enter second number 30\n",
      "30 is smaller\n"
     ]
    }
   ],
   "source": [
    "a=int(input(\"Enter first number \"))\n",
    "b=int(input(\"Enter second number \"))\n",
    "if a<b:\n",
    "    print(a, \"is smaller\")\n",
    "else:\n",
    "    print(b, \"is smaller\")"
   ]
  },
  {
   "cell_type": "markdown",
   "id": "96a0890f",
   "metadata": {},
   "source": [
    "# Write a program to enter three numbers and print the greatest number "
   ]
  },
  {
   "cell_type": "code",
   "execution_count": 4,
   "id": "ea86f786",
   "metadata": {},
   "outputs": [
    {
     "name": "stdout",
     "output_type": "stream",
     "text": [
      "Enter first number 40\n",
      "Enter second number 50\n",
      "Enter third number 60\n",
      "60 is greater\n"
     ]
    }
   ],
   "source": [
    "a=int(input(\"Enter first number \"))\n",
    "b=int(input(\"Enter second number \"))\n",
    "c=int(input(\"Enter third number \"))\n",
    "if a>b and a>c:\n",
    "    print(a, \"is greater\")\n",
    "elif b>c:\n",
    "    print(b, \"is greater\")\n",
    "else:\n",
    "    print(c, \"is greater\")"
   ]
  },
  {
   "cell_type": "markdown",
   "id": "f2b89d86",
   "metadata": {},
   "source": [
    "# Write a program to enter three numbers and print the smallest number "
   ]
  },
  {
   "cell_type": "code",
   "execution_count": 6,
   "id": "9bb0a349",
   "metadata": {},
   "outputs": [
    {
     "name": "stdout",
     "output_type": "stream",
     "text": [
      "Enter first number 30\n",
      "Enter second number 20\n",
      "Enter third number 40\n",
      "20 is smaller\n"
     ]
    }
   ],
   "source": [
    "a=int(input(\"Enter first number \"))\n",
    "b=int(input(\"Enter second number \"))\n",
    "c=int(input(\"Enter third number \"))\n",
    "if a<b and a<c:\n",
    "    print(a, \"is smaller\")\n",
    "elif b<c:\n",
    "    print(b, \"is smaller\")\n",
    "else:\n",
    "    print(c, \"is smaller\")"
   ]
  },
  {
   "cell_type": "markdown",
   "id": "9b1b2622",
   "metadata": {},
   "source": [
    "# Write a program to calculate the roots of a quadratic equation"
   ]
  },
  {
   "cell_type": "code",
   "execution_count": 9,
   "id": "2f28a7fc",
   "metadata": {},
   "outputs": [
    {
     "name": "stdout",
     "output_type": "stream",
     "text": [
      "Enter a 1\n",
      "Enter b -5\n",
      "Enter c 6\n",
      "The first root is  2.75\n",
      "The second root is  2.25\n"
     ]
    }
   ],
   "source": [
    "a=float(input(\"Enter a \"))\n",
    "b=float(input(\"Enter b \"))\n",
    "c=float(input(\"Enter c \"))\n",
    "d=b**2-4*a*c\n",
    "d1=d*0.5\n",
    "if d<0:\n",
    "    print(\"The roots are imaginary\")\n",
    "else:\n",
    "    print(\"The first root is \", (-b+d1)/2*a)\n",
    "    print(\"The second root is \", (-b-d1)/2*a)"
   ]
  },
  {
   "cell_type": "markdown",
   "id": "1fe1285c",
   "metadata": {},
   "source": [
    "# Write a program to enter a number between (1-7) and print the respective day of the week"
   ]
  },
  {
   "cell_type": "code",
   "execution_count": 9,
   "id": "426eda67",
   "metadata": {},
   "outputs": [
    {
     "name": "stdout",
     "output_type": "stream",
     "text": [
      "Enter number between 1-7 6\n",
      "Saturday\n"
     ]
    }
   ],
   "source": [
    "a=int(input(\"Enter number between 1-7 \"))\n",
    "if a==1:\n",
    "    print(\"Monday\")\n",
    "elif a==2:\n",
    "    print(\"Tuesday\")\n",
    "elif a==3:\n",
    "    print(\"Wednesday\")\n",
    "elif a==4:\n",
    "    print(\"Thursday\")\n",
    "elif a==5:\n",
    "    print(\"Friday\")\n",
    "elif a==6:\n",
    "    print(\"Saturday\")\n",
    "elif a==7:\n",
    "    print(\"Sunday\")\n",
    "else:\n",
    "    print(\"Enter valid number between 1-7\")"
   ]
  }
 ],
 "metadata": {
  "kernelspec": {
   "display_name": "Python 3 (ipykernel)",
   "language": "python",
   "name": "python3"
  },
  "language_info": {
   "codemirror_mode": {
    "name": "ipython",
    "version": 3
   },
   "file_extension": ".py",
   "mimetype": "text/x-python",
   "name": "python",
   "nbconvert_exporter": "python",
   "pygments_lexer": "ipython3",
   "version": "3.9.13"
  }
 },
 "nbformat": 4,
 "nbformat_minor": 5
}

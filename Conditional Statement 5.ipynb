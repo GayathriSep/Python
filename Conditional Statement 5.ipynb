{
 "cells": [
  {
   "cell_type": "markdown",
   "id": "5050720a",
   "metadata": {},
   "source": [
    "# A school has following rules for grading system:\n",
    "* a) Below 25 - F\n",
    "* b) 25 to 45 - E\n",
    "* c) 45 to 50 - D\n",
    "* d) 50 to 60 - C\n",
    "* e) 60 to 80 - B\n",
    "* f) Above 80 - A\n",
    "* Ask user to enter marks and print the corresponding grade"
   ]
  },
  {
   "cell_type": "code",
   "execution_count": 1,
   "id": "cefca329",
   "metadata": {},
   "outputs": [
    {
     "name": "stdout",
     "output_type": "stream",
     "text": [
      "Enter total marks65\n",
      "Grade is B\n"
     ]
    }
   ],
   "source": [
    "n=int(input(\"Enter total marks\"))\n",
    "if(n>80):\n",
    "    print(\"Grade is A\")\n",
    "elif(n>=60 and n<=80):\n",
    "    print(\"Grade is B\")\n",
    "elif(n>=50 and n<=59):\n",
    "    print(\"Grade is C\")\n",
    "elif(n>=45 and n<=49):\n",
    "    print(\"Grade is D\")\n",
    "elif(n>=25 and n<=44):\n",
    "    print(\"Grade is E\")\n",
    "else:\n",
    "    print(\"Grade is F\")"
   ]
  }
 ],
 "metadata": {
  "kernelspec": {
   "display_name": "Python 3 (ipykernel)",
   "language": "python",
   "name": "python3"
  },
  "language_info": {
   "codemirror_mode": {
    "name": "ipython",
    "version": 3
   },
   "file_extension": ".py",
   "mimetype": "text/x-python",
   "name": "python",
   "nbconvert_exporter": "python",
   "pygments_lexer": "ipython3",
   "version": "3.9.13"
  }
 },
 "nbformat": 4,
 "nbformat_minor": 5
}

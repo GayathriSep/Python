{
 "cells": [
  {
   "cell_type": "markdown",
   "id": "69a0445a",
   "metadata": {},
   "source": [
    "# Write a function that takes a number as a parameter and check the number is prime or not"
   ]
  },
  {
   "cell_type": "code",
   "execution_count": 19,
   "id": "121fd675",
   "metadata": {},
   "outputs": [
    {
     "name": "stdout",
     "output_type": "stream",
     "text": [
      "Enter the no: 12\n",
      "12  is not a prime no\n"
     ]
    }
   ],
   "source": [
    "def prime(n):\n",
    "    if n<2:\n",
    "        return False\n",
    "    for i in range(2,n//2+1):\n",
    "        if n%i==0:\n",
    "            return False\n",
    "        else:\n",
    "            return True\n",
    "       \n",
    "n=int(input(\"Enter the no: \"))\n",
    "if prime(n):\n",
    "    print(n,\" is a prime no\")\n",
    "else:\n",
    "    print(n,\" is not a prime no\")"
   ]
  },
  {
   "cell_type": "markdown",
   "id": "1f971972",
   "metadata": {},
   "source": [
    "# Write a function to check whether a number is perfect or not"
   ]
  },
  {
   "cell_type": "code",
   "execution_count": 26,
   "id": "2e14af4c",
   "metadata": {},
   "outputs": [
    {
     "name": "stdout",
     "output_type": "stream",
     "text": [
      "Enter a number: 6\n",
      "6 is a perfect number\n"
     ]
    }
   ],
   "source": [
    "def perfect(num):  #user-defined function\n",
    "   sum = 0\n",
    "   for i in range(1,num): \n",
    "      if(num%i==0):\n",
    "         sum=sum+i \n",
    "   return sum \n",
    "\n",
    "num=int(input(\"Enter a number: \"))\n",
    "\n",
    "if(num==perfect(num)): \n",
    "   print(num, \"is a perfect number\") \n",
    "else: \n",
    "   print(num, \"is not a perfect number\") \n",
    "  \n",
    "  "
   ]
  },
  {
   "cell_type": "markdown",
   "id": "29683314",
   "metadata": {},
   "source": [
    "# Write a function to check whether a passed string is palindrome or not"
   ]
  },
  {
   "cell_type": "code",
   "execution_count": 15,
   "id": "822c6a2e",
   "metadata": {},
   "outputs": [
    {
     "name": "stdout",
     "output_type": "stream",
     "text": [
      "Enter string: mother\n",
      "mother is not a palindrome\n"
     ]
    }
   ],
   "source": [
    "def palindrome(string):\n",
    "    return string==string[::-1] \n",
    "       \n",
    "string=input(\"Enter string: \")\n",
    "res=palindrome(string)\n",
    "if res:\n",
    "    print(string, \"is a palindrome\")\n",
    "else:\n",
    "    print(string, \"is not a palindrome\")"
   ]
  },
  {
   "cell_type": "markdown",
   "id": "64ebb84a",
   "metadata": {},
   "source": [
    "# Write a function to check whether a given number is strong or not"
   ]
  },
  {
   "cell_type": "code",
   "execution_count": 6,
   "id": "63b1a879",
   "metadata": {},
   "outputs": [
    {
     "name": "stdout",
     "output_type": "stream",
     "text": [
      "Enter the number: 145\n",
      "145 is a strong number\n"
     ]
    }
   ],
   "source": [
    "num=int(input(\"Enter the number: \"))\n",
    "temp=num\n",
    "sum=0\n",
    "while(temp>0):\n",
    "    rem=temp%10\n",
    "    fact=1\n",
    "    for i in range(1,rem+1):\n",
    "        fact=fact*i\n",
    "    sum=sum+fact\n",
    "    temp=temp//10\n",
    "\n",
    "if (sum==num):\n",
    "    print(num,\"is a strong number\")\n",
    "else:\n",
    "    print(num,\"is not a strong number\")\n"
   ]
  },
  {
   "cell_type": "code",
   "execution_count": 20,
   "id": "d8b65f8c",
   "metadata": {},
   "outputs": [
    {
     "name": "stdout",
     "output_type": "stream",
     "text": [
      "Enter the number: 145\n",
      "145 is a strong number\n"
     ]
    }
   ],
   "source": [
    "def strong(num):\n",
    "    temp=num\n",
    "    sum=0\n",
    "    while(temp>0):\n",
    "        rem=temp%10\n",
    "        fact=1\n",
    "        for i in range(1,rem+1):\n",
    "                fact=fact*i\n",
    "        sum=sum+fact\n",
    "        temp=temp//10\n",
    "    return True\n",
    "\n",
    "\n",
    "num=int(input(\"Enter the number: \"))\n",
    "if strong(num):\n",
    "    print(num,\"is a strong number\")\n",
    "else:\n",
    "    print(num,\"is not a strong number\")"
   ]
  },
  {
   "cell_type": "markdown",
   "id": "2afd0a27",
   "metadata": {},
   "source": [
    "# Write a function to print sum of reverse of a number"
   ]
  },
  {
   "cell_type": "code",
   "execution_count": 47,
   "id": "436e696d",
   "metadata": {},
   "outputs": [
    {
     "name": "stdout",
     "output_type": "stream",
     "text": [
      "Enter a number: 143\n",
      "Sum of reverse of a number is 8\n"
     ]
    }
   ],
   "source": [
    "def rev(num):  \n",
    "   sum=0\n",
    "   rev=0\n",
    "   while (num>0):              #143     14     1\n",
    "        rem=num%10             #  3      4     1\n",
    "        sum=sum+rem            #  3      7     8\n",
    "        rev=rev*10+rem         #  3     34    341\n",
    "        num=num//10            # 14      1     -\n",
    "   return sum  \n",
    "        \n",
    "\n",
    "num=int(input(\"Enter a number: \"))\n",
    "reverse=rev(num)\n",
    "print(\"Sum of reverse of a number is\",reverse)\n",
    "\n"
   ]
  }
 ],
 "metadata": {
  "kernelspec": {
   "display_name": "Python 3 (ipykernel)",
   "language": "python",
   "name": "python3"
  },
  "language_info": {
   "codemirror_mode": {
    "name": "ipython",
    "version": 3
   },
   "file_extension": ".py",
   "mimetype": "text/x-python",
   "name": "python",
   "nbconvert_exporter": "python",
   "pygments_lexer": "ipython3",
   "version": "3.9.13"
  }
 },
 "nbformat": 4,
 "nbformat_minor": 5
}
